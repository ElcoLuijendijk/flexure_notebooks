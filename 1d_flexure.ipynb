{
 "cells": [
  {
   "cell_type": "markdown",
   "metadata": {},
   "source": [
    "# Changes in loading and their flexural response in a foreland basin\n",
    "\n",
    "This notebook was designed to play around with gflex and compare flexure for two different loading conditions as a proxy to what would happen if the flexural load changes. For instance in response to a change in exhumation in the Alps.\n",
    "\n",
    "link to gflex repository: https://github.com/awickert/gFlex"
   ]
  },
  {
   "cell_type": "code",
   "execution_count": 128,
   "metadata": {},
   "outputs": [],
   "source": [
    "import gflex\n",
    "import numpy as np\n",
    "from matplotlib import pyplot as pl"
   ]
  },
  {
   "cell_type": "code",
   "execution_count": 129,
   "metadata": {},
   "outputs": [],
   "source": [
    "g = 9.81\n",
    "\n",
    "n_grid_points = 500\n",
    "dx = 1000\n",
    "\n",
    "# sediment density / density of the basin infill: (kg/m3)\n",
    "sediment_density = 2000.0\n",
    "\n",
    "# effective elastic thickness of the lithosphere:\n",
    "Te = 25000.0\n",
    "\n",
    "# density of the mantle\n",
    "mantle_density = 3300.0\n",
    "\n",
    "# density of the material forming the load (ie, the additional crustal thickness)\n",
    "load_density = 2500.0"
   ]
  },
  {
   "cell_type": "markdown",
   "metadata": {},
   "source": [
    "## set up 1D gflex model to simulate flexure:"
   ]
  },
  {
   "cell_type": "code",
   "execution_count": 130,
   "metadata": {},
   "outputs": [
    {
     "name": "stdout",
     "output_type": "stream",
     "text": [
      "\n",
      "\n",
      "*********************************\n",
      "*** Initializing gFlex v1.1.0 ***\n",
      "*********************************\n",
      "\n",
      "Open-source licensed under GNU GPL v3\n",
      "\n",
      "\n",
      "No value entered for optional parameter \"Plot\"\n",
      "in category \"output\" in configuration file.\n",
      "No action related to this optional parameter will be taken.\n",
      "\n",
      "F1D initialized\n"
     ]
    }
   ],
   "source": [
    "flex = gflex.F1D()\n",
    "\n",
    "flex.Quiet = False\n",
    "\n",
    "flex.Method = 'FD' # Solution method: * FD (finite difference)\n",
    "                   #                  * SAS (superposition of analytical solutions)\n",
    "                   #                  * SAS_NG (ungridded SAS)\n",
    "flex.PlateSolutionType = 'vWC1994' # van Wees and Cloetingh (1994)\n",
    "                                   # The other option is 'G2009': Govers et al. (2009)\n",
    "flex.Solver = 'direct' # direct or iterative\n",
    "flex.iterative_ConvergenceTolerance = 1e-4\n",
    "# convergence = 1E-3 # convergence between iterations, if an iterative solution\n",
    "                     # method is chosen\n",
    "\n",
    "flex.g = g # acceleration due to gravity\n",
    "flex.E = 65E9 # Young's Modulus\n",
    "flex.nu = 0.25 # Poisson's Ratio\n",
    "flex.rho_m = mantle_density # MantleDensity\n",
    "flex.rho_fill = sediment_density # InfiillMaterialDensity\n",
    "\n",
    "\n",
    "flex.Te = Te * np.ones((n_grid_points)) # Elastic thickness [m] -- scalar but may be an array\n",
    "\n",
    "flex.qs = np.zeros((n_grid_points))\n",
    "\n",
    "flex.dx = dx # grid cell size, x-oriented [m]\n",
    "\n",
    "# Boundary conditions can be:\n",
    "# (FD): 0Slope0Shear, 0Moment0Shear, 0Displacement0Slope, Mirror, or Periodic\n",
    "# For SAS or SAS_NG, NoOutsideLoads is valid, and no entry defaults to this\n",
    "flex.BC_W = '0Displacement0Slope' # west boundary condition\n",
    "#flex.BC_E = '0Displacement0Slope' # west boundary condition\n",
    "flex.BC_E = '0Moment0Shear' # east boundary condition\n",
    "\n",
    "flex.initialize()"
   ]
  },
  {
   "cell_type": "code",
   "execution_count": 131,
   "metadata": {},
   "outputs": [],
   "source": [
    "flex.x"
   ]
  },
  {
   "cell_type": "markdown",
   "metadata": {},
   "source": [
    "## setup loads:"
   ]
  },
  {
   "cell_type": "code",
   "execution_count": 132,
   "metadata": {},
   "outputs": [],
   "source": [
    "x = np.arange(n_grid_points) * dx\n",
    "\n",
    "\n",
    "load_distribution = 'wedge'\n",
    "\n",
    "qss = []\n",
    "\n",
    "if load_distribution is 'line':\n",
    "    \n",
    "    # simple line loads:\n",
    "    load_centre = 500e3\n",
    "    # width of the line load. the left hand side is deifned by the centre location minus the width\n",
    "    load_widths = [100e3, 50e3]\n",
    "    \n",
    "    # the height of the load\n",
    "    # the stress is calculated by multiplying this with g and the \n",
    "    # load_density paramter defined previously\n",
    "    load_heights = [1000.0, 2000.0]\n",
    "    \n",
    "    \n",
    "    for load_height, load_width in zip(load_heights, load_widths):\n",
    "        load = load_height * load_density * g\n",
    "        x_load_min = load_centre - load_width\n",
    "        x_load_max = load_centre \n",
    "        \n",
    "        xmin_load = int(x_load_min / dx)\n",
    "        xmax_load = int(x_load_max / dx)\n",
    "        xmin_load_init = xmin_load\n",
    "\n",
    "        qs = np.zeros((n_grid_points))\n",
    "        qs[xmin_load:xmax_load] = load\n",
    "        qss.append(qs)\n",
    "\n",
    "elif load_distribution is 'wedge':\n",
    "    \n",
    "    # triangular shape for the load, approximation of an orogenic wedge\n",
    "\n",
    "    # load 1: a wedge with max thickness of 25 km \n",
    "    # follows estimates of crustal thickness in the Alps by Kahle et al. 1980\n",
    "    # https://www.researchgate.net/publication/313697418_Recent_dynamics_crustal_structure_and_gravity_in_the_Alps\n",
    "    slope = 0.25\n",
    "    load1 = (x - 400000.0) * slope * load_density * g\n",
    "    load1[load1<0] = 0\n",
    "    \n",
    "    # load 2, a steeper internal load, but keeping the total load equal:\n",
    "    slope2 = 0.8 * 0.25\n",
    "    load2a = (x - 400000.0) * slope2 * load_density * g\n",
    "    load2b = (x - 450000.0) * slope2 * load_density * g\n",
    "    load2a[load2a<0] = 0\n",
    "    load2b[load2b<0] = 0\n",
    "    load2 = load2a + load2b\n",
    "        \n",
    "    for load in [load1, load2]:\n",
    "        qs = np.zeros((n_grid_points))\n",
    "        qs[:] = load\n",
    "        qss.append(qs)"
   ]
  },
  {
   "cell_type": "markdown",
   "metadata": {},
   "source": [
    "## Run the model for each load condition and record the deflection of the lithosphere:"
   ]
  },
  {
   "cell_type": "code",
   "execution_count": 133,
   "metadata": {},
   "outputs": [
    {
     "name": "stdout",
     "output_type": "stream",
     "text": [
      "Finite Difference Solution Technique\n",
      "F1D run\n",
      "Boundary condition, West: 0Displacement0Slope <class 'str'>\n",
      "Boundary condition, East: 0Moment0Shear <class 'str'>\n",
      "Boundary condition, West: 0Displacement0Slope <class 'str'>\n",
      "Boundary condition, East: 0Moment0Shear <class 'str'>\n",
      "Time to construct coefficient (operator) array [s]: 0.00851297378540039\n",
      "Time to solve [s]: 0.01166391372680664\n",
      "F1D finalized\n",
      "\n",
      "Finite Difference Solution Technique\n",
      "F1D run\n",
      "Boundary condition, West: 0Displacement0Slope <class 'str'>\n",
      "Boundary condition, East: 0Moment0Shear <class 'str'>\n",
      "Boundary condition, West: 0Displacement0Slope <class 'str'>\n",
      "Boundary condition, East: 0Moment0Shear <class 'str'>\n",
      "Time to construct coefficient (operator) array [s]: 0.002318143844604492\n",
      "Time to solve [s]: 0.006528139114379883\n",
      "F1D finalized\n",
      "\n"
     ]
    }
   ],
   "source": [
    "deflections = []\n",
    "\n",
    "for n_model_run, qs in enumerate(qss):\n",
    "    \n",
    "    flex.qs = np.zeros((n_grid_points))\n",
    "    flex.qs = qs\n",
    "    \n",
    "    flex.run()\n",
    "    flex.finalize()\n",
    "    \n",
    "    deflection = flex.w\n",
    "    \n",
    "    deflections.append(deflection)\n",
    "    \n",
    "deflection_diff = deflections[1] - deflections[0]"
   ]
  },
  {
   "cell_type": "markdown",
   "metadata": {},
   "source": [
    "## Make a figure that shows the loads and the flexural response"
   ]
  },
  {
   "cell_type": "code",
   "execution_count": 134,
   "metadata": {},
   "outputs": [
    {
     "data": {
      "image/png": "[encoded data removed]",
      "text/plain": [
       "<Figure size 648x648 with 3 Axes>"
      ]
     },
     "metadata": {},
     "output_type": "display_data"
    }
   ],
   "source": [
    "lss = [':', '-']\n",
    "\n",
    "labels = ['model 1', 'model 2']\n",
    "\n",
    "fig, axs = pl.subplots(3, 1, sharex=True, figsize=(9, 9))\n",
    "\n",
    "ax = axs[0]\n",
    "#axr = ax.twinx()\n",
    "\n",
    "basin_edge = np.where(qss[0]>0)[0][0]\n",
    "\n",
    "for qsi, ls, label in zip(qss, lss, labels):\n",
    "    label1 = 'load, ' + label\n",
    "    ax.plot(x, qsi / (load_density * g), color='black', ls=ls, label=label1)\n",
    "\n",
    "for deflection, ls, label in zip(deflections, lss, labels):\n",
    "    label2 = 'deflection, ' + label\n",
    "    ax.plot(x, deflection, color='blue', ls=ls, label=label2)\n",
    "    \n",
    "ax.legend(loc='upper left', ncol=2, frameon=False, fontsize='small')\n",
    "\n",
    "#axr.set_ylabel('Load (m)')\n",
    "ax.set_ylabel('Deflection / load (m)')\n",
    "\n",
    "axb = axs[1]\n",
    "for deflection, ls in zip(deflections, lss):\n",
    "    axb.fill_between(x[:basin_edge], deflection[:basin_edge], \n",
    "                     linestyle=ls, edgecolor='blue', facecolor='lightblue')\n",
    "axb.set_ylabel('Basin fill (m)')\n",
    " \n",
    "axd = axs[2]\n",
    "axd.plot(x[:basin_edge], deflection_diff[:basin_edge])\n",
    "axd.set_ylabel('Uplift/subsidence (m)')\n",
    "\n",
    "axd.set_xlabel('Distance (m)')\n",
    "\n",
    "for ax in axs:\n",
    "    ax.axhline(y=0, color='black', lw=0.5)\n",
    "\n"
   ]
  },
  {
   "cell_type": "markdown",
   "metadata": {},
   "source": [
    "**Figure caption**: *Flexural response of the Molasse basin to additional crustal thickness of 25 km in the Alps, assuming a finite lithosphere with 0 shear at its tip below the Alps. The figure shows the response to two different loads, and the uplift or subsidence that results from changing the loads (bottom panel)*"
   ]
  },
  {
   "cell_type": "markdown",
   "metadata": {},
   "source": [
    "## Change the boundary conditions to a fully coupled (continuous) European and Adriatic plate"
   ]
  },
  {
   "cell_type": "code",
   "execution_count": 135,
   "metadata": {},
   "outputs": [],
   "source": [
    "n_grid_points = 1000"
   ]
  },
  {
   "cell_type": "code",
   "execution_count": 136,
   "metadata": {},
   "outputs": [
    {
     "name": "stdout",
     "output_type": "stream",
     "text": [
      "\n",
      "\n",
      "*********************************\n",
      "*** Initializing gFlex v1.1.0 ***\n",
      "*********************************\n",
      "\n",
      "Open-source licensed under GNU GPL v3\n",
      "\n",
      "\n",
      "No value entered for optional parameter \"Plot\"\n",
      "in category \"output\" in configuration file.\n",
      "No action related to this optional parameter will be taken.\n",
      "\n",
      "F1D initialized\n"
     ]
    }
   ],
   "source": [
    "flex = gflex.F1D()\n",
    "\n",
    "flex.Quiet = False\n",
    "\n",
    "flex.Method = 'FD' # Solution method: * FD (finite difference)\n",
    "                   #                  * SAS (superposition of analytical solutions)\n",
    "                   #                  * SAS_NG (ungridded SAS)\n",
    "flex.PlateSolutionType = 'vWC1994' # van Wees and Cloetingh (1994)\n",
    "                                   # The other option is 'G2009': Govers et al. (2009)\n",
    "flex.Solver = 'direct' # direct or iterative\n",
    "flex.iterative_ConvergenceTolerance = 1e-4\n",
    "# convergence = 1E-3 # convergence between iterations, if an iterative solution\n",
    "                     # method is chosen\n",
    "\n",
    "flex.g = g # acceleration due to gravity\n",
    "flex.E = 65E9 # Young's Modulus\n",
    "flex.nu = 0.25 # Poisson's Ratio\n",
    "flex.rho_m = 3300. # MantleDensity\n",
    "flex.rho_fill = sediment_density # InfiillMaterialDensity\n",
    "\n",
    "\n",
    "flex.Te = 25000. * np.ones((n_grid_points)) # Elastic thickness [m] -- scalar but may be an array\n",
    "\n",
    "flex.qs = np.zeros((n_grid_points))\n",
    "\n",
    "flex.dx = dx # grid cell size, x-oriented [m]\n",
    "\n",
    "# Boundary conditions can be:\n",
    "# (FD): 0Slope0Shear, 0Moment0Shear, 0Displacement0Slope, Mirror, or Periodic\n",
    "# For SAS or SAS_NG, NoOutsideLoads is valid, and no entry defaults to this\n",
    "flex.BC_W = '0Displacement0Slope' # west boundary condition\n",
    "#flex.BC_E = '0Displacement0Slope' # west boundary condition\n",
    "flex.BC_E = '0Moment0Shear' # east boundary condition\n",
    "\n",
    "flex.initialize()"
   ]
  },
  {
   "cell_type": "markdown",
   "metadata": {},
   "source": [
    "## Setup loads for fully coupled European and Adriatic plate"
   ]
  },
  {
   "cell_type": "code",
   "execution_count": 137,
   "metadata": {},
   "outputs": [],
   "source": [
    "x = np.arange(n_grid_points) * dx\n",
    "\n",
    "# density of the material forming the load\n",
    "load_density = 2500.0\n",
    "\n",
    "load_distribution = 'wedge'\n",
    "\n",
    "qss = []\n",
    "\n",
    "if load_distribution is 'line':\n",
    "    \n",
    "    # simple line loads:\n",
    "    load_centre = 500e3\n",
    "    # width of the line load. the left hand side is deifned by the centre location minus the width\n",
    "    load_widths = [100e3, 50e3]\n",
    "    \n",
    "    # the height of the load\n",
    "    # the stress is calculated by multiplying this with g and the \n",
    "    # load_density paramter defined previously\n",
    "    load_heights = [1000.0, 2000.0]\n",
    "    \n",
    "    \n",
    "    for load_height, load_width in zip(load_heights, load_widths):\n",
    "        load = load_height * load_density * g\n",
    "        x_load_min = load_centre - load_width\n",
    "        x_load_max = load_centre + load_width\n",
    "        \n",
    "        xmin_load = int(x_load_min / dx)\n",
    "        xmax_load = int(x_load_max / dx)\n",
    "        \n",
    "        if xmax_load > n_grid_points:\n",
    "            xmax_load = n_grid_points\n",
    "            \n",
    "        xmin_load_init = xmin_load\n",
    "\n",
    "        qs = np.zeros((n_grid_points))\n",
    "        qs[xmin_load:xmax_load] = load\n",
    "        qss.append(qs)\n",
    "\n",
    "elif load_distribution is 'wedge':\n",
    "    \n",
    "    # triangular shape for the load, approximation of an orogenic wedge\n",
    "\n",
    "    # load 1: a wedge with max thickness of 25 km (Kahle et al. 1980)\n",
    "    # https://www.researchgate.net/publication/313697418_Recent_dynamics_crustal_structure_and_gravity_in_the_Alps\n",
    "    slope = 0.25\n",
    "    load1a = (x - 400000.0) * slope * load_density * g\n",
    "    load1 = np.zeros_like(x)\n",
    "    xmid = int(n_grid_points / 2)\n",
    "    load1[:xmid] = load1a[:xmid]\n",
    "    load1[xmid:] = load1a[:xmid][::-1]\n",
    "    \n",
    "    load1[load1<0] = 0\n",
    "    \n",
    "    # load 2, a steeper internal load, but keeping the total load equal:\n",
    "    slope2 = 0.8 * 0.25\n",
    "    load2a = (x - 400000.0) * slope2 * load_density * g\n",
    "    load2b = (x - 450000.0) * slope2 * load_density * g\n",
    "    load2a[load2a<0] = 0\n",
    "    load2b[load2b<0] = 0\n",
    "    load2c = load2a + load2b\n",
    "\n",
    "    load2 = np.zeros_like(x)\n",
    "    load2[:xmid] = load2c[:xmid]\n",
    "    load2[xmid:] = load2c[:xmid][::-1]\n",
    "\n",
    "    for load in [load1, load2]:\n",
    "        qs = np.zeros((n_grid_points))\n",
    "        qs[:] = load\n",
    "        qss.append(qs)"
   ]
  },
  {
   "cell_type": "markdown",
   "metadata": {},
   "source": [
    "## Run the model with the new bnd conditions"
   ]
  },
  {
   "cell_type": "code",
   "execution_count": 138,
   "metadata": {},
   "outputs": [
    {
     "name": "stdout",
     "output_type": "stream",
     "text": [
      "Finite Difference Solution Technique\n",
      "F1D run\n",
      "Boundary condition, West: 0Displacement0Slope <class 'str'>\n",
      "Boundary condition, East: 0Moment0Shear <class 'str'>\n",
      "Boundary condition, West: 0Displacement0Slope <class 'str'>\n",
      "Boundary condition, East: 0Moment0Shear <class 'str'>\n",
      "Time to construct coefficient (operator) array [s]: 0.0077800750732421875\n",
      "Time to solve [s]: 0.01071619987487793\n",
      "F1D finalized\n",
      "\n",
      "Finite Difference Solution Technique\n",
      "F1D run\n",
      "Boundary condition, West: 0Displacement0Slope <class 'str'>\n",
      "Boundary condition, East: 0Moment0Shear <class 'str'>\n",
      "Boundary condition, West: 0Displacement0Slope <class 'str'>\n",
      "Boundary condition, East: 0Moment0Shear <class 'str'>\n",
      "Time to construct coefficient (operator) array [s]: 0.0019888877868652344\n",
      "Time to solve [s]: 0.004884004592895508\n",
      "F1D finalized\n",
      "\n"
     ]
    }
   ],
   "source": [
    "deflections = []\n",
    "\n",
    "for n_model_run, qs in enumerate(qss):\n",
    "    \n",
    "    flex.qs = np.zeros((n_grid_points))\n",
    "    flex.qs = qs\n",
    "    \n",
    "    flex.run()\n",
    "    flex.finalize()\n",
    "    \n",
    "    deflection = flex.w\n",
    "    \n",
    "    deflections.append(deflection)\n",
    "    \n",
    "deflection_diff = deflections[1] - deflections[0]"
   ]
  },
  {
   "cell_type": "markdown",
   "metadata": {},
   "source": [
    "## Make a figure that shows the loads and the flexural response for the new bnd condition"
   ]
  },
  {
   "cell_type": "code",
   "execution_count": 139,
   "metadata": {},
   "outputs": [
    {
     "data": {
      "image/png": "[encoded data removed]",
      "text/plain": [
       "<Figure size 648x648 with 3 Axes>"
      ]
     },
     "metadata": {},
     "output_type": "display_data"
    }
   ],
   "source": [
    "lss = [':', '-']\n",
    "\n",
    "labels = ['model 1', 'model 2']\n",
    "\n",
    "fig, axs = pl.subplots(3, 1, sharex=True, figsize=(9, 9))\n",
    "\n",
    "ax = axs[0]\n",
    "#axr = ax.twinx()\n",
    "\n",
    "basin_edge = np.where(qss[0]>0)[0][0]\n",
    "\n",
    "for qsi, ls, label in zip(qss, lss, labels):\n",
    "    label1 = 'load, ' + label\n",
    "    ax.plot(x, qsi / (load_density * g), color='black', ls=ls, label=label1)\n",
    "\n",
    "for deflection, ls, label in zip(deflections, lss, labels):\n",
    "    label2 = 'deflection, ' + label\n",
    "    ax.plot(x, deflection, color='blue', ls=ls, label=label2)\n",
    "    \n",
    "ax.legend(loc='upper left', ncol=2, frameon=False, fontsize='small')\n",
    "\n",
    "#axr.set_ylabel('Load (m)')\n",
    "ax.set_ylabel('Deflection / load (m)')\n",
    "\n",
    "axb = axs[1]\n",
    "for deflection, ls in zip(deflections, lss):\n",
    "    axb.fill_between(x[:basin_edge], deflection[:basin_edge], \n",
    "                     linestyle=ls, edgecolor='blue', facecolor='lightblue')\n",
    "axb.set_ylabel('Basin fill (m)')\n",
    " \n",
    "axd = axs[2]\n",
    "axd.plot(x[:basin_edge], deflection_diff[:basin_edge])\n",
    "axd.set_ylabel('Uplift/subsidence (m)')\n",
    "\n",
    "axd.set_xlabel('Distance (m)')\n",
    "\n",
    "for ax in axs:\n",
    "    ax.axhline(y=0, color='black', lw=0.5)"
   ]
  },
  {
   "cell_type": "markdown",
   "metadata": {},
   "source": [
    "**Figure caption**: *Flexural response of the Molasse basin to additional crustal thickness of 25 km in the Alps, assuming a continuous unbroken lithosphere below the Alps. The figure shows the response to two different loads, and the uplift or subsidence that results from changing the loads (bottom panel)*"
   ]
  },
  {
   "cell_type": "code",
   "execution_count": null,
   "metadata": {},
   "outputs": [],
   "source": []
  }
 ],
 "metadata": {
  "kernelspec": {
   "display_name": "Python 3",
   "language": "python",
   "name": "python3"
  },
  "language_info": {
   "codemirror_mode": {
    "name": "ipython",
    "version": 3
   },
   "file_extension": ".py",
   "mimetype": "text/x-python",
   "name": "python",
   "nbconvert_exporter": "python",
   "pygments_lexer": "ipython3",
   "version": "3.6.8"
  }
 },
 "nbformat": 4,
 "nbformat_minor": 2
}
