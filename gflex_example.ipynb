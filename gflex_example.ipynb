{
 "cells": [
  {
   "cell_type": "code",
   "execution_count": null,
   "metadata": {},
   "outputs": [],
   "source": []
  },
  {
   "cell_type": "code",
   "execution_count": 1,
   "metadata": {},
   "outputs": [
    {
     "name": "stdout",
     "output_type": "stream",
     "text": [
      "\n",
      "\n",
      "*********************************\n",
      "*** Initializing gFlex v1.1.0 ***\n",
      "*********************************\n",
      "\n",
      "Open-source licensed under GNU GPL v3\n",
      "\n",
      "\n",
      "No value entered for optional parameter \"Plot\"\n",
      "in category \"output\" in configuration file.\n",
      "No action related to this optional parameter will be taken.\n",
      "\n",
      "F2D initialized\n",
      "Finite Difference Solution Technique\n",
      "F2D run\n",
      "Boundary condition, West: 0Displacement0Slope <class 'str'>\n",
      "Boundary condition, East: 0Moment0Shear <class 'str'>\n",
      "Boundary condition, North: 0Displacement0Slope <class 'str'>\n",
      "Boundary condition, South: 0Displacement0Slope <class 'str'>\n",
      "Time to construct coefficient (operator) array [s]: 0.011520862579345703\n",
      "Time to solve [s]: 0.27968931198120117\n",
      "F2D finalized\n",
      "\n",
      "Output step\n",
      "\n",
      "No value entered for optional parameter \"DeflectionOut\"\n",
      "in category \"output\" in configuration file.\n",
      "No action related to this optional parameter will be taken.\n",
      "\n",
      "Starting to plot both\n"
     ]
    },
    {
     "data": {
      "text/plain": [
       "<Figure size 600x900 with 4 Axes>"
      ]
     },
     "metadata": {},
     "output_type": "display_data"
    }
   ],
   "source": [
    "#! /usr/bin/env python\n",
    "\n",
    "import gflex\n",
    "import numpy as np\n",
    "from matplotlib import pyplot as plt\n",
    "\n",
    "flex = gflex.F2D()\n",
    "\n",
    "flex.Quiet = False\n",
    "\n",
    "flex.Method = 'FD' # Solution method: * FD (finite difference)\n",
    "                   #                  * SAS (superposition of analytical solutions)\n",
    "                   #                  * SAS_NG (ungridded SAS)\n",
    "flex.PlateSolutionType = 'vWC1994' # van Wees and Cloetingh (1994)\n",
    "                                   # The other option is 'G2009': Govers et al. (2009)\n",
    "flex.Solver = 'direct' # direct or iterative\n",
    "# convergence = 1E-3 # convergence between iterations, if an iterative solution\n",
    "                     # method is chosen\n",
    "\n",
    "flex.g = 9.8 # acceleration due to gravity\n",
    "flex.E = 65E9 # Young's Modulus\n",
    "flex.nu = 0.25 # Poisson's Ratio\n",
    "flex.rho_m = 3300. # MantleDensity\n",
    "flex.rho_fill = 0. # InfiillMaterialDensity\n",
    "\n",
    "flex.Te = 35000.*np.ones((50, 50)) # Elastic thickness [m] -- scalar but may be an array\n",
    "flex.Te[:,-3:] = 0.\n",
    "flex.qs = np.zeros((50, 50)) # Template array for surface load stresses\n",
    "flex.qs[10:40, 10:40] += 1E6 # Populating this template\n",
    "flex.dx = 5000. # grid cell size, x-oriented [m]\n",
    "flex.dy = 5000. # grid cell size, y-oriented [m]\n",
    "# Boundary conditions can be:\n",
    "# (FD): 0Slope0Shear, 0Moment0Shear, 0Displacement0Slope, Mirror, or Periodic\n",
    "# For SAS or SAS_NG, NoOutsideLoads is valid, and no entry defaults to this\n",
    "flex.BC_W = '0Displacement0Slope' # west boundary condition\n",
    "flex.BC_E = '0Moment0Shear' # east boundary condition\n",
    "flex.BC_S = '0Displacement0Slope' # south boundary condition\n",
    "flex.BC_N = '0Displacement0Slope' # north boundary condition\n",
    "\n",
    "# latitude/longitude solutions are exact for SAS, approximate otherwise\n",
    "#latlon = # true/false: flag to enable lat/lon input. Defaults False.\n",
    "#PlanetaryRadius = # radius of planet [m], for lat/lon solutions\n",
    "\n",
    "flex.initialize()\n",
    "flex.run()\n",
    "flex.finalize()\n",
    "\n",
    "# If you want to plot the output\n",
    "flex.plotChoice='both'\n",
    "# An output file for deflections could also be defined here\n",
    "# flex.wOutFile = \n",
    "flex.output() # Plots and/or saves output, or does nothing, depending on\n",
    "              # whether flex.plotChoice and/or flex.wOutFile have been set\n",
    "# TO OBTAIN OUTPUT DIRECTLY IN PYTHON, you can assign the internal variable,\n",
    "# flex.w, to another variable -- or as an element in a list if you are looping\n",
    "# over many runs of gFlex:\n",
    "deflection = flex.w"
   ]
  },
  {
   "cell_type": "code",
   "execution_count": null,
   "metadata": {},
   "outputs": [],
   "source": []
  }
 ],
 "metadata": {
  "kernelspec": {
   "display_name": "Python 3",
   "language": "python",
   "name": "python3"
  },
  "language_info": {
   "codemirror_mode": {
    "name": "ipython",
    "version": 3
   },
   "file_extension": ".py",
   "mimetype": "text/x-python",
   "name": "python",
   "nbconvert_exporter": "python",
   "pygments_lexer": "ipython3",
   "version": "3.6.8"
  }
 },
 "nbformat": 4,
 "nbformat_minor": 2
}
